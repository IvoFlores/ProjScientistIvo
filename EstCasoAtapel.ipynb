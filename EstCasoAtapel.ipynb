{
 "cells": [
  {
   "cell_type": "code",
   "execution_count": 1,
   "id": "065091a2-9112-423b-995a-f56476bf3a51",
   "metadata": {},
   "outputs": [
    {
     "name": "stdout",
     "output_type": "stream",
     "text": [
      "Requirement already satisfied: pandas in c:\\users\\atapel\\teste\\anaconda3\\lib\\site-packages (1.5.3)\n",
      "Requirement already satisfied: openpyxl in c:\\users\\atapel\\teste\\anaconda3\\lib\\site-packages (3.0.10)\n",
      "Requirement already satisfied: matplotlib in c:\\users\\atapel\\teste\\anaconda3\\lib\\site-packages (3.7.1)\n",
      "Requirement already satisfied: python-dateutil>=2.8.1 in c:\\users\\atapel\\teste\\anaconda3\\lib\\site-packages (from pandas) (2.8.2)\n",
      "Requirement already satisfied: pytz>=2020.1 in c:\\users\\atapel\\teste\\anaconda3\\lib\\site-packages (from pandas) (2022.7)\n",
      "Requirement already satisfied: numpy>=1.21.0 in c:\\users\\atapel\\teste\\anaconda3\\lib\\site-packages (from pandas) (1.24.3)\n",
      "Requirement already satisfied: et_xmlfile in c:\\users\\atapel\\teste\\anaconda3\\lib\\site-packages (from openpyxl) (1.1.0)\n",
      "Requirement already satisfied: contourpy>=1.0.1 in c:\\users\\atapel\\teste\\anaconda3\\lib\\site-packages (from matplotlib) (1.0.5)\n",
      "Requirement already satisfied: cycler>=0.10 in c:\\users\\atapel\\teste\\anaconda3\\lib\\site-packages (from matplotlib) (0.11.0)\n",
      "Requirement already satisfied: fonttools>=4.22.0 in c:\\users\\atapel\\teste\\anaconda3\\lib\\site-packages (from matplotlib) (4.25.0)\n",
      "Requirement already satisfied: kiwisolver>=1.0.1 in c:\\users\\atapel\\teste\\anaconda3\\lib\\site-packages (from matplotlib) (1.4.4)\n",
      "Requirement already satisfied: packaging>=20.0 in c:\\users\\atapel\\teste\\anaconda3\\lib\\site-packages (from matplotlib) (23.0)\n",
      "Requirement already satisfied: pillow>=6.2.0 in c:\\users\\atapel\\teste\\anaconda3\\lib\\site-packages (from matplotlib) (10.3.0)\n",
      "Requirement already satisfied: pyparsing>=2.3.1 in c:\\users\\atapel\\teste\\anaconda3\\lib\\site-packages (from matplotlib) (3.0.9)\n",
      "Requirement already satisfied: six>=1.5 in c:\\users\\atapel\\teste\\anaconda3\\lib\\site-packages (from python-dateutil>=2.8.1->pandas) (1.16.0)\n",
      "Note: you may need to restart the kernel to use updated packages.\n"
     ]
    }
   ],
   "source": [
    "pip install pandas openpyxl matplotlib\n"
   ]
  },
  {
   "cell_type": "code",
   "execution_count": 2,
   "id": "90817412-3054-4cab-ba01-5673d254ef92",
   "metadata": {},
   "outputs": [],
   "source": [
    "import pandas as pd\n",
    "import matplotlib.pyplot as plt"
   ]
  },
  {
   "cell_type": "code",
   "execution_count": 9,
   "id": "4b8548c6-9615-4afa-8483-e017ec6f2533",
   "metadata": {},
   "outputs": [],
   "source": [
    "# Carregar o arquivo .xlsx\n",
    "# Substitua 'arquivo.xlsx' pelo nome do seu arquivo\n",
    "df = pd.read_excelC (r'C:\\Users\\Atapel\\Contacts\\Desktop\\UniCesumarfev2022\\DSAPythonCurso\\Arq01\\DSACienDados4\\ArqTest\\ListAssocATAPELa.xlsx')"
   ]
  },
  {
   "cell_type": "code",
   "execution_count": 61,
   "id": "9dee5afe-6b5c-431c-969c-c2e5efa6a088",
   "metadata": {},
   "outputs": [],
   "source": [
    "# Verificar as 5 pessoas com maior idade\n",
    "df['Idade'] = pd.to_numeric(df['Idade'], errors='coerce')\n",
    "top_5_mais_velhos = df.nlargest(5, 'Idade')"
   ]
  },
  {
   "cell_type": "code",
   "execution_count": 69,
   "id": "e00c0b32-2ca6-4ddb-a781-19280d5c4fa0",
   "metadata": {},
   "outputs": [
    {
     "name": "stdout",
     "output_type": "stream",
     "text": [
      "As 5 pessoas mais velhas:\n",
      "                            Nome  Idade\n",
      "20         WANIRA FLOR LARRUSCA     99\n",
      "34         WILMA GOMESA BRAZUKA     98\n",
      "21  WENSCESLADO DA ROSA MOREINA     95\n",
      "28    WILMAE REMEDIO BAPTISTACA     95\n",
      "19      WANDERLY VICENT RODRIGO     88\n"
     ]
    }
   ],
   "source": [
    "print(\"As 5 pessoas mais velhas:\\n\", top_5_mais_velhos[['Nome', 'Idade']])"
   ]
  },
  {
   "cell_type": "code",
   "execution_count": 49,
   "id": "ce932f0d-c2eb-400f-b10e-2ed5cd300429",
   "metadata": {},
   "outputs": [
    {
     "name": "stdout",
     "output_type": "stream",
     "text": [
      "int64\n"
     ]
    }
   ],
   "source": [
    "print(df['Idade'].dtype)"
   ]
  },
  {
   "cell_type": "code",
   "execution_count": 43,
   "id": "e399de37-73e9-4ae6-987a-f2a3aa7c6bfb",
   "metadata": {},
   "outputs": [
    {
     "name": "stdout",
     "output_type": "stream",
     "text": [
      "Index(['Nome', 'Telefone', 'Endereço', 'Sócio desde', 'Idade', 'Dependentes',\n",
      "       'Mensalidade'],\n",
      "      dtype='object')\n"
     ]
    }
   ],
   "source": [
    "print(df.columns)"
   ]
  },
  {
   "cell_type": "code",
   "execution_count": 51,
   "id": "6a23be93-13cb-4196-9dca-6e9bdc16871c",
   "metadata": {},
   "outputs": [],
   "source": [
    "# Calcular a média de idade\n",
    "media_idade = df['Idade'].mean()"
   ]
  },
  {
   "cell_type": "code",
   "execution_count": 73,
   "id": "de2c4a5b-bbc9-4ace-ab2a-ee6d730d3418",
   "metadata": {},
   "outputs": [
    {
     "name": "stdout",
     "output_type": "stream",
     "text": [
      "\n",
      "Média de idade: 71.49 anos\n"
     ]
    }
   ],
   "source": [
    "print(f\"\\nMédia de idade: {media_idade:.2f} anos\")"
   ]
  },
  {
   "cell_type": "code",
   "execution_count": 63,
   "id": "13991258-3594-4a3f-bce2-f90abb6cf2c2",
   "metadata": {},
   "outputs": [],
   "source": [
    "# Calcular o valor médio das mensalidades\n",
    "media_mensalidades = df['Mensalidade'].mean()"
   ]
  },
  {
   "cell_type": "code",
   "execution_count": 75,
   "id": "dbc8e064-d897-402e-9682-c55dc2338550",
   "metadata": {},
   "outputs": [
    {
     "name": "stdout",
     "output_type": "stream",
     "text": [
      "Valor médio das mensalidades: R$ 38.60\n"
     ]
    }
   ],
   "source": [
    "print(f\"Valor médio das mensalidades: R$ {media_mensalidades:.2f}\")"
   ]
  },
  {
   "cell_type": "code",
   "execution_count": 65,
   "id": "f04b2c45-850a-4d06-82c5-ff88b33eebfe",
   "metadata": {},
   "outputs": [],
   "source": [
    "# Identificar a pessoa que pagou o maior valor e o valor pago\n",
    "maior_valor_pago = df.loc[df['Mensalidade'].idxmax()]"
   ]
  },
  {
   "cell_type": "code",
   "execution_count": 78,
   "id": "c86ad58c-10f9-46a1-81f3-8dcba93fce59",
   "metadata": {},
   "outputs": [
    {
     "name": "stdout",
     "output_type": "stream",
     "text": [
      "\n",
      "Pessoa que pagou o maior valor: WILMARO DA ROSE DORNELAS\n"
     ]
    }
   ],
   "source": [
    "print(f\"\\nPessoa que pagou o maior valor: {maior_valor_pago['Nome']}\")"
   ]
  },
  {
   "cell_type": "code",
   "execution_count": 80,
   "id": "d4e3e66d-6982-42a3-a7cb-6e2f10b87ea5",
   "metadata": {},
   "outputs": [
    {
     "name": "stdout",
     "output_type": "stream",
     "text": [
      "Maior valor pago: R$ 66\n"
     ]
    }
   ],
   "source": [
    "print(f\"Maior valor pago: R$ {maior_valor_pago['Mensalidade']}\")"
   ]
  },
  {
   "cell_type": "code",
   "execution_count": 84,
   "id": "45c69518-8f6d-4747-9e8b-c531a99ff113",
   "metadata": {},
   "outputs": [
    {
     "data": {
      "image/png": "[encoded data removed]",
      "text/plain": [
       "<Figure size 1000x500 with 1 Axes>"
      ]
     },
     "metadata": {},
     "output_type": "display_data"
    }
   ],
   "source": [
    "# Gerar gráficos\n",
    "# 1. Gráfico das idades\n",
    "plt.figure(figsize=(10,5))\n",
    "plt.hist(df['Idade'], bins=10, color='skyblue', edgecolor='black')\n",
    "plt.title('Distribuição das Idades')\n",
    "plt.xlabel('Idade')\n",
    "plt.ylabel('Frequência')\n",
    "plt.grid(True)\n",
    "plt.show()"
   ]
  },
  {
   "cell_type": "code",
   "execution_count": 86,
   "id": "316aeb9a-2ec9-4077-9739-321fd33c5057",
   "metadata": {},
   "outputs": [
    {
     "data": {
      "image/png": "[encoded data removed]",
      "text/plain": [
       "<Figure size 1000x500 with 1 Axes>"
      ]
     },
     "metadata": {},
     "output_type": "display_data"
    }
   ],
   "source": [
    "# 2. Gráfico dos valores pagos\n",
    "plt.figure(figsize=(10,5))\n",
    "plt.hist(df['Mensalidade'], bins=10, color='lightgreen', edgecolor='black')\n",
    "plt.title('Distribuição dos Valores Pagos')\n",
    "plt.xlabel('Valor da Mensalidade')\n",
    "plt.ylabel('Frequência')\n",
    "plt.grid(True)\n",
    "plt.show()"
   ]
  },
  {
   "cell_type": "code",
   "execution_count": 88,
   "id": "831ecc79-c036-446d-8947-8e246246202f",
   "metadata": {},
   "outputs": [
    {
     "data": {
      "image/png": "[encoded data removed]",
      "text/plain": [
       "<Figure size 1000x500 with 1 Axes>"
      ]
     },
     "metadata": {},
     "output_type": "display_data"
    }
   ],
   "source": [
    "# 3. Gráfico Idade vs Valores Pagos (associados)\n",
    "plt.figure(figsize=(10,5))\n",
    "plt.scatter(df['Idade'], df['Mensalidade'], color='purple')\n",
    "plt.title('Idade vs Valor Pago')\n",
    "plt.xlabel('Idade')\n",
    "plt.ylabel('Valor Pago (R$)')\n",
    "plt.grid(True)\n",
    "plt.show()"
   ]
  },
  {
   "cell_type": "code",
   "execution_count": 114,
   "id": "b1981099-5176-47f2-9dc6-12451690611d",
   "metadata": {},
   "outputs": [
    {
     "name": "stdout",
     "output_type": "stream",
     "text": [
      "Requirement already satisfied: dash in c:\\users\\atapel\\teste\\anaconda3\\lib\\site-packages (2.18.1)Note: you may need to restart the kernel to use updated packages.\n",
      "\n",
      "Requirement already satisfied: pandas in c:\\users\\atapel\\teste\\anaconda3\\lib\\site-packages (1.5.3)\n",
      "Requirement already satisfied: plotly in c:\\users\\atapel\\teste\\anaconda3\\lib\\site-packages (5.9.0)\n",
      "Requirement already satisfied: Flask<3.1,>=1.0.4 in c:\\users\\atapel\\teste\\anaconda3\\lib\\site-packages (from dash) (2.2.2)\n",
      "Requirement already satisfied: Werkzeug<3.1 in c:\\users\\atapel\\teste\\anaconda3\\lib\\site-packages (from dash) (2.2.3)\n",
      "Requirement already satisfied: dash-html-components==2.0.0 in c:\\users\\atapel\\teste\\anaconda3\\lib\\site-packages (from dash) (2.0.0)\n",
      "Requirement already satisfied: dash-core-components==2.0.0 in c:\\users\\atapel\\teste\\anaconda3\\lib\\site-packages (from dash) (2.0.0)\n",
      "Requirement already satisfied: dash-table==5.0.0 in c:\\users\\atapel\\teste\\anaconda3\\lib\\site-packages (from dash) (5.0.0)\n",
      "Requirement already satisfied: importlib-metadata in c:\\users\\atapel\\teste\\anaconda3\\lib\\site-packages (from dash) (6.0.0)\n",
      "Requirement already satisfied: typing-extensions>=4.1.1 in c:\\users\\atapel\\teste\\anaconda3\\lib\\site-packages (from dash) (4.7.1)\n",
      "Requirement already satisfied: requests in c:\\users\\atapel\\teste\\anaconda3\\lib\\site-packages (from dash) (2.31.0)\n",
      "Requirement already satisfied: retrying in c:\\users\\atapel\\teste\\anaconda3\\lib\\site-packages (from dash) (1.3.4)\n",
      "Requirement already satisfied: nest-asyncio in c:\\users\\atapel\\teste\\anaconda3\\lib\\site-packages (from dash) (1.5.6)\n",
      "Requirement already satisfied: setuptools in c:\\users\\atapel\\teste\\anaconda3\\lib\\site-packages (from dash) (68.0.0)\n",
      "Requirement already satisfied: python-dateutil>=2.8.1 in c:\\users\\atapel\\teste\\anaconda3\\lib\\site-packages (from pandas) (2.8.2)\n",
      "Requirement already satisfied: pytz>=2020.1 in c:\\users\\atapel\\teste\\anaconda3\\lib\\site-packages (from pandas) (2022.7)\n",
      "Requirement already satisfied: numpy>=1.21.0 in c:\\users\\atapel\\teste\\anaconda3\\lib\\site-packages (from pandas) (1.24.3)\n",
      "Requirement already satisfied: tenacity>=6.2.0 in c:\\users\\atapel\\teste\\anaconda3\\lib\\site-packages (from plotly) (8.2.2)\n",
      "Requirement already satisfied: Jinja2>=3.0 in c:\\users\\atapel\\teste\\anaconda3\\lib\\site-packages (from Flask<3.1,>=1.0.4->dash) (3.1.2)\n",
      "Requirement already satisfied: itsdangerous>=2.0 in c:\\users\\atapel\\teste\\anaconda3\\lib\\site-packages (from Flask<3.1,>=1.0.4->dash) (2.0.1)\n",
      "Requirement already satisfied: click>=8.0 in c:\\users\\atapel\\teste\\anaconda3\\lib\\site-packages (from Flask<3.1,>=1.0.4->dash) (8.0.4)\n",
      "Requirement already satisfied: six>=1.5 in c:\\users\\atapel\\teste\\anaconda3\\lib\\site-packages (from python-dateutil>=2.8.1->pandas) (1.16.0)\n",
      "Requirement already satisfied: MarkupSafe>=2.1.1 in c:\\users\\atapel\\teste\\anaconda3\\lib\\site-packages (from Werkzeug<3.1->dash) (2.1.1)\n",
      "Requirement already satisfied: zipp>=0.5 in c:\\users\\atapel\\teste\\anaconda3\\lib\\site-packages (from importlib-metadata->dash) (3.11.0)\n",
      "Requirement already satisfied: charset-normalizer<4,>=2 in c:\\users\\atapel\\teste\\anaconda3\\lib\\site-packages (from requests->dash) (2.0.4)\n",
      "Requirement already satisfied: idna<4,>=2.5 in c:\\users\\atapel\\teste\\anaconda3\\lib\\site-packages (from requests->dash) (3.4)\n",
      "Requirement already satisfied: urllib3<3,>=1.21.1 in c:\\users\\atapel\\teste\\anaconda3\\lib\\site-packages (from requests->dash) (1.26.16)\n",
      "Requirement already satisfied: certifi>=2017.4.17 in c:\\users\\atapel\\teste\\anaconda3\\lib\\site-packages (from requests->dash) (2024.6.2)\n",
      "Requirement already satisfied: colorama in c:\\users\\atapel\\teste\\anaconda3\\lib\\site-packages (from click>=8.0->Flask<3.1,>=1.0.4->dash) (0.4.6)\n"
     ]
    }
   ],
   "source": [
    "pip install dash pandas plotly"
   ]
  },
  {
   "cell_type": "code",
   "execution_count": 116,
   "id": "a764f7a1-98d1-4d9e-840b-9e326b05b2d9",
   "metadata": {},
   "outputs": [],
   "source": [
    "import dash\n",
    "from dash import dcc, html\n",
    "from dash.dependencies import Input, Output\n",
    "import plotly.express as px\n",
    "import pandas as pd"
   ]
  },
  {
   "cell_type": "code",
   "execution_count": 118,
   "id": "e24dfbaf-6c18-4040-a0dc-0afe640ab67b",
   "metadata": {},
   "outputs": [],
   "source": [
    "# 1. Carregar dados\n",
    "df = pd.read_excel(r'C:\\Users\\Atapel\\Contacts\\Desktop\\UniCesumarfev2022\\DSAPythonCurso\\Arq01\\DSACienDados4\\ArqTest\\ListAssocATAPELa.xlsx')"
   ]
  },
  {
   "cell_type": "code",
   "execution_count": 120,
   "id": "9ebe298a-eedc-4bcd-877f-379dde59536f",
   "metadata": {},
   "outputs": [],
   "source": [
    "# 2. Preparar os cálculos necessários\n",
    "# Calcular a média de idade\n",
    "media_idade = df['Idade'].mean()"
   ]
  },
  {
   "cell_type": "code",
   "execution_count": 122,
   "id": "2d5bb046-4e49-43e0-ab5d-7309f89385e2",
   "metadata": {},
   "outputs": [],
   "source": [
    "# Calcular o valor médio das mensalidades\n",
    "media_mensalidade = df['Mensalidade'].mean()"
   ]
  },
  {
   "cell_type": "code",
   "execution_count": 124,
   "id": "9abb42e8-b293-414f-b570-4e456ab16977",
   "metadata": {},
   "outputs": [],
   "source": [
    "# Nome da pessoa que pagou o maior valor e o valor pago\n",
    "maior_valor_pago = df['Mensalidade'].max()\n",
    "pessoa_maior_pagamento = df.loc[df['Mensalidade'] == maior_valor_pago, 'Nome'].values[0]"
   ]
  },
  {
   "cell_type": "code",
   "execution_count": 126,
   "id": "9948d446-c401-46d7-a227-d8c44df84cd3",
   "metadata": {},
   "outputs": [],
   "source": [
    "# 3. Preparar os gráficos\n",
    "fig_idades = px.histogram(df, x='Idade', title='Distribuição das Idades')\n",
    "fig_valores = px.histogram(df, x='Mensalidade', title='Distribuição dos Valores Pagos')\n",
    "fig_scatter = px.scatter(df, x='Idade', y='Mensalidade', title='Idade vs Valores Pagos')\n",
    "\n"
   ]
  },
  {
   "cell_type": "code",
   "execution_count": 128,
   "id": "db6eef27-54a3-4b7a-81d4-a1540a63652c",
   "metadata": {},
   "outputs": [
    {
     "data": {
      "text/html": [
       "\n",
       "        <iframe\n",
       "            width=\"100%\"\n",
       "            height=\"650\"\n",
       "            src=\"http://127.0.0.1:8050/\"\n",
       "            frameborder=\"0\"\n",
       "            allowfullscreen\n",
       "            \n",
       "        ></iframe>\n",
       "        "
      ],
      "text/plain": [
       "<IPython.lib.display.IFrame at 0x199877832d0>"
      ]
     },
     "metadata": {},
     "output_type": "display_data"
    }
   ],
   "source": [
    "# 4. Criar a aplicação Dash\n",
    "app = dash.Dash(__name__)\n",
    "\n",
    "app.layout = html.Div(children=[\n",
    "    html.H1(children='Dashboard de Associados'),\n",
    "    \n",
    "    # Média de idade\n",
    "    html.Div(f\"Média de idade: {media_idade:.2f} anos\"),\n",
    "    \n",
    "    # Média de valores pagos\n",
    "    html.Div(f\"Valor médio das mensalidades: R${media_mensalidade:.2f}\"),\n",
    "    \n",
    "    # Pessoa com maior valor pago\n",
    "    html.Div(f\"Pessoa que pagou o maior valor: {pessoa_maior_pagamento}, com valor de R${maior_valor_pago:.2f}\"),\n",
    "    \n",
    "    # Gráficos\n",
    "    dcc.Graph(\n",
    "        id='grafico-Idades',\n",
    "        figure=fig_idades\n",
    "    ),\n",
    "    \n",
    "    dcc.Graph(\n",
    "        id='grafico-Valores',\n",
    "        figure=fig_valores\n",
    "    ),\n",
    "    \n",
    "    dcc.Graph(\n",
    "        id='grafico-scatter',\n",
    "        figure=fig_scatter\n",
    "    )\n",
    "])\n",
    "\n",
    "# 5. Rodar o servidor\n",
    "if __name__ == '__main__':\n",
    "    app.run_server(debug=True)"
   ]
  },
  {
   "cell_type": "code",
   "execution_count": null,
   "id": "433c1df0-91cb-43ef-8b8d-c5bea784f785",
   "metadata": {},
   "outputs": [],
   "source": []
  }
 ],
 "metadata": {
  "kernelspec": {
   "display_name": "Python 3 (ipykernel)",
   "language": "python",
   "name": "python3"
  },
  "language_info": {
   "codemirror_mode": {
    "name": "ipython",
    "version": 3
   },
   "file_extension": ".py",
   "mimetype": "text/x-python",
   "name": "python",
   "nbconvert_exporter": "python",
   "pygments_lexer": "ipython3",
   "version": "3.11.4"
  }
 },
 "nbformat": 4,
 "nbformat_minor": 5
}
