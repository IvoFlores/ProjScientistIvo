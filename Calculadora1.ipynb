{
 "cells": [
  {
   "cell_type": "code",
   "execution_count": null,
   "id": "824d7904-fd2b-421f-80fb-51fe17e41701",
   "metadata": {},
   "outputs": [
    {
     "name": "stdout",
     "output_type": "stream",
     "text": [
      "Selecione a operação:\n",
      "1. Adição\n",
      "2. Subtração\n",
      "3. Multiplicação\n",
      "4. Divisão\n",
      "5. Raiz quadrada\n",
      "6. Porcentagem\n",
      "7. Exponenciação\n"
     ]
    },
    {
     "name": "stdin",
     "output_type": "stream",
     "text": [
      "Digite sua escolha (1/2/3/4/5/6/7):  6\n",
      "Digite o primeiro número:  256\n",
      "Digite o segundo número:  39\n"
     ]
    },
    {
     "name": "stdout",
     "output_type": "stream",
     "text": [
      "Resultado: 99.84\n"
     ]
    },
    {
     "name": "stdin",
     "output_type": "stream",
     "text": [
      "Deseja realizar outra operação? (s/n):  s\n"
     ]
    },
    {
     "name": "stdout",
     "output_type": "stream",
     "text": [
      "Selecione a operação:\n",
      "1. Adição\n",
      "2. Subtração\n",
      "3. Multiplicação\n",
      "4. Divisão\n",
      "5. Raiz quadrada\n",
      "6. Porcentagem\n",
      "7. Exponenciação\n"
     ]
    },
    {
     "name": "stdin",
     "output_type": "stream",
     "text": [
      "Digite sua escolha (1/2/3/4/5/6/7):  5\n",
      "Digite o número:  895\n"
     ]
    },
    {
     "name": "stdout",
     "output_type": "stream",
     "text": [
      "Resultado: 29.916550603303182\n"
     ]
    }
   ],
   "source": [
    "import math\n",
    "\n",
    "def adicionar(x, y):\n",
    "    return x + y\n",
    "\n",
    "def subtrair(x, y):\n",
    "    return x - y\n",
    "\n",
    "def multiplicar(x, y):\n",
    "    return x * y\n",
    "\n",
    "def dividir(x, y):\n",
    "    if y == 0:\n",
    "        return \"Erro! Divisão por zero.\"\n",
    "    return x / y\n",
    "\n",
    "def raiz_quadrada(x):\n",
    "    if x < 0:\n",
    "        return \"Erro! Não existe raiz quadrada de número negativo.\"\n",
    "    return math.sqrt(x)\n",
    "\n",
    "def porcentagem(x, y):\n",
    "    return (x * y) / 100\n",
    "\n",
    "def exponenciacao(x, y):\n",
    "    return x ** y\n",
    "\n",
    "def menu():\n",
    "    print(\"Selecione a operação:\")\n",
    "    print(\"1. Adição\")\n",
    "    print(\"2. Subtração\")\n",
    "    print(\"3. Multiplicação\")\n",
    "    print(\"4. Divisão\")\n",
    "    print(\"5. Raiz quadrada\")\n",
    "    print(\"6. Porcentagem\")\n",
    "    print(\"7. Exponenciação\")\n",
    "    \n",
    "while True:\n",
    "    menu()\n",
    "    \n",
    "    escolha = input(\"Digite sua escolha (1/2/3/4/5/6/7): \")\n",
    "\n",
    "    if escolha in ['1', '2', '3', '4', '6', '7']:\n",
    "        num1 = float(input(\"Digite o primeiro número: \"))\n",
    "        num2 = float(input(\"Digite o segundo número: \"))\n",
    "    \n",
    "    if escolha == '1':\n",
    "        print(f\"Resultado: {adicionar(num1, num2)}\")\n",
    "    elif escolha == '2':\n",
    "        print(f\"Resultado: {subtrair(num1, num2)}\")\n",
    "    elif escolha == '3':\n",
    "        print(f\"Resultado: {multiplicar(num1, num2)}\")\n",
    "    elif escolha == '4':\n",
    "        print(f\"Resultado: {dividir(num1, num2)}\")\n",
    "    elif escolha == '5':\n",
    "        num = float(input(\"Digite o número: \"))\n",
    "        print(f\"Resultado: {raiz_quadrada(num)}\")\n",
    "    elif escolha == '6':\n",
    "        print(f\"Resultado: {porcentagem(num1, num2)}\")\n",
    "    elif escolha == '7':\n",
    "        print(f\"Resultado: {exponenciacao(num1, num2)}\")\n",
    "    else:\n",
    "        print(\"Escolha inválida. Tente novamente.\")\n",
    "    \n",
    "    continuar = input(\"Deseja realizar outra operação? (s/n): \")\n",
    "    if continuar.lower() != 's':\n",
    "        break\n"
   ]
  },
  {
   "cell_type": "code",
   "execution_count": null,
   "id": "af0f9cb8-eedc-4bf7-9f08-56a7cd201d74",
   "metadata": {},
   "outputs": [],
   "source": []
  }
 ],
 "metadata": {
  "kernelspec": {
   "display_name": "Python 3 (ipykernel)",
   "language": "python",
   "name": "python3"
  },
  "language_info": {
   "codemirror_mode": {
    "name": "ipython",
    "version": 3
   },
   "file_extension": ".py",
   "mimetype": "text/x-python",
   "name": "python",
   "nbconvert_exporter": "python",
   "pygments_lexer": "ipython3",
   "version": "3.11.4"
  }
 },
 "nbformat": 4,
 "nbformat_minor": 5
}
